{
 "cells": [
  {
   "cell_type": "code",
   "execution_count": 260,
   "metadata": {
    "collapsed": false
   },
   "outputs": [],
   "source": [
    "%matplotlib inline\n",
    "import numpy as n\n",
    "# The following 2 lines are necessary to make the\n",
    "# GUI work right, at least for me. YMMV!\n",
    "from matplotlib import pyplot as p\n",
    "from matplotlib import cm\n",
    "from matplotlib.patches import Ellipse\n",
    "import lensdemo_funcs as ldf\n",
    "import scipy\n",
    "import scipy.ndimage as ndimage\n",
    "import scipy.ndimage.filters as filters\n",
    "from cosmocalc import cosmocalc"
   ]
  },
  {
   "cell_type": "code",
   "execution_count": 22,
   "metadata": {
    "collapsed": true,
    "deletable": true,
    "editable": true
   },
   "outputs": [],
   "source": [
    "# Package some image display preferences in a dictionary object, for use below:\n",
    "myargs = {'interpolation': 'nearest', 'origin': 'lower', 'cmap': cm.gray}"
   ]
  },
  {
   "cell_type": "code",
   "execution_count": 256,
   "metadata": {
    "collapsed": true
   },
   "outputs": [],
   "source": [
    "# Make some x and y coordinate images:\n",
    "nx = 501\n",
    "ny = 501\n",
    "xhilo = [-2.5, 2.5]\n",
    "yhilo = [-2.5, 2.5]\n",
    "x = (xhilo[1] - xhilo[0]) * n.outer(n.ones(ny), n.arange(nx)) / float(nx-1) + xhilo[0]\n",
    "y = (yhilo[1] - yhilo[0]) * n.outer(n.arange(ny), n.ones(nx)) / float(ny-1) + yhilo[0]"
   ]
  },
  {
   "cell_type": "code",
   "execution_count": 272,
   "metadata": {
    "collapsed": false
   },
   "outputs": [],
   "source": [
    "# Set some SIE lens-model parameters and pack them into an array:\n",
    "l_amp = 1.2  # Einstein radius\n",
    "l_xcen = 0.0  # x position of center\n",
    "l_ycen = 0.0  # y position of center\n",
    "l_min = 0.1 #minor axis size\n",
    "l_max = 0.6 #major axis size\n",
    "l_axrat = l_min/l_max # minor-to-major axis ratio\n",
    "l_pa = 0.0    # major-axis position angle (degrees) c.c.w. from x axis\n",
    "lpar = n.asarray([l_amp, l_xcen, l_ycen, l_axrat, l_pa])\n"
   ]
  },
  {
   "cell_type": "code",
   "execution_count": 273,
   "metadata": {
    "collapsed": false,
    "deletable": true,
    "editable": true
   },
   "outputs": [],
   "source": [
    "# Compute the lensing potential gradients:\n",
    "(xg, yg) = ldf.sie_grad(x, y, lpar)"
   ]
  },
  {
   "cell_type": "code",
   "execution_count": 282,
   "metadata": {
    "collapsed": true
   },
   "outputs": [],
   "source": [
    "# Set some Gaussian blob image parameters and pack them into an array:\n",
    "g_amp = 1.0   # peak brightness value\n",
    "g_sig = 0.05  # Gaussian \"sigma\" (i.e., size)\n",
    "g_xcen = 0  # x position of center\n",
    "g_ycen = 0  # y position of center\n",
    "g_axrat = 1 # minor-to-major axis ratio\n",
    "g_pa = 0.0    # major-axis position angle (degrees) c.c.w. from x axis\n",
    "gpar = n.asarray([g_amp, g_sig, g_xcen, g_ycen, g_axrat, g_pa])\n"
   ]
  },
  {
   "cell_type": "code",
   "execution_count": 283,
   "metadata": {
    "collapsed": false
   },
   "outputs": [
    {
     "data": {
      "text/plain": [
       "<matplotlib.patches.Ellipse at 0x120998f60>"
      ]
     },
     "execution_count": 283,
     "metadata": {},
     "output_type": "execute_result"
    },
    {
     "data": {
      "image/png": "[encoded data removed]",
      "text/plain": [
       "<matplotlib.figure.Figure at 0x1206af3c8>"
      ]
     },
     "metadata": {},
     "output_type": "display_data"
    }
   ],
   "source": [
    "# Evaluate lensed Gaussian image:\n",
    "g_lensimage = ldf.gauss_2d(x-xg, y-yg, gpar)\n",
    "\n",
    "# Plot images:\n",
    "f = p.imshow(g_lensimage, **myargs, extent=[xhilo[0], xhilo[1], yhilo[0], yhilo[1]])\n",
    "p.scatter(g_xcen, g_ycen, c='r', s=10) #plot source\n",
    "\n",
    "ax = p.gca() #plot lens\n",
    "ax.add_patch(Ellipse((l_xcen, l_xcen), width=l_max, height=l_min, angle=l_pa,\n",
    "                     edgecolor='none',\n",
    "                     facecolor='skyblue',\n",
    "                     alpha = 0.4,\n",
    "                     linewidth=1))"
   ]
  },
  {
   "cell_type": "code",
   "execution_count": 284,
   "metadata": {
    "collapsed": false
   },
   "outputs": [],
   "source": [
    "#pick out maxima minima in the image\n",
    "filtersize = 20\n",
    "threshold = 0.5\n",
    "\n",
    "im_max = filters.maximum_filter(g_lensimage, filtersize)\n",
    "maxima = (g_lensimage == im_max)\n",
    "im_min = filters.minimum_filter(g_lensimage, filtersize)\n",
    "diff = ((im_max - im_min) > threshold)\n",
    "maxima[diff == 0] = 0\n",
    "\n",
    "labeled, num_objects = ndimage.label(maxima)\n",
    "slices = ndimage.find_objects(labeled)\n",
    "QSOx, QSOy = [], []\n",
    "for dy,dx in slices:\n",
    "    x_center = (dx.start + dx.stop - 1)/2\n",
    "    QSOx.append(x_center)\n",
    "    y_center = (dy.start + dy.stop - 1)/2    \n",
    "    QSOy.append(y_center)\n",
    "\n",
    "# convert to image co-ordinates\n",
    "QSOxt = n.array(QSOx)/nx*(xhilo[1] - xhilo[0]) + xhilo[0]\n",
    "QSOyt = n.array(QSOy)/ny*(yhilo[1] - yhilo[0]) + yhilo[0]\n",
    "\n"
   ]
  },
  {
   "cell_type": "code",
   "execution_count": 285,
   "metadata": {
    "collapsed": false
   },
   "outputs": [
    {
     "data": {
      "text/plain": [
       "<matplotlib.collections.PathCollection at 0x120d06588>"
      ]
     },
     "execution_count": 285,
     "metadata": {},
     "output_type": "execute_result"
    },
    {
     "data": {
      "image/png": "[encoded data removed]",
      "text/plain": [
       "<matplotlib.figure.Figure at 0x120998780>"
      ]
     },
     "metadata": {},
     "output_type": "display_data"
    }
   ],
   "source": [
    "f = p.imshow(g_lensimage, **myargs, extent=[xhilo[0], xhilo[1], yhilo[0], yhilo[1]])\n",
    "p.scatter(QSOxt, QSOyt, c='r', s=5)\n"
   ]
  },
  {
   "cell_type": "code",
   "execution_count": 286,
   "metadata": {
    "collapsed": false
   },
   "outputs": [
    {
     "name": "stdout",
     "output_type": "stream",
     "text": [
      "images found:  5\n",
      "1 . x:  -0.004990019960080083 , y:  -1.2325349301397206 , I:  0.9997437098703341\n",
      "2 . x:  -0.7035928143712575 , y:  -0.004990019960080083 , I:  0.9984882601919863\n",
      "3 . x:  -0.004990019960080083 , y:  -0.004990019960080083 , I:  1.0\n",
      "4 . x:  0.6936127744510978 , y:  -0.004990019960080083 , I:  0.9984882601919861\n",
      "5 . x:  -0.004990019960080083 , y:  1.2225548902195609 , I:  0.9997437098703341\n"
     ]
    }
   ],
   "source": [
    "#print QSO image position and surface brightness \n",
    "nmax = n.size(QSOxt)\n",
    "print('images found: ',nmax)\n",
    "for i in n.arange(nmax):\n",
    "    print(i+1, '. x: ', QSOxt[i], ', y: ', QSOyt[i], ', I: ', g_lensimage[n.int(QSOy[i]),n.int(QSOx[i])])"
   ]
  },
  {
   "cell_type": "markdown",
   "metadata": {},
   "source": [
    "# Magnitudes:\n",
    "Gaussian 2d surface brightness profile is:  \n",
    "$ I(r) = \\frac{L_{tot}}{q\\pi\\sigma^2}  \\frac{1}{2}  \\exp (\\frac{1}{2} \\frac{r^2}{\\sigma^2})$  \n",
    "\n",
    "where q = axis ratio, sigma = intermediate-axis sigma, r = projected source lens separation  \n",
    "\n",
    "Note that in the lensdemo_funcs, gauss2d takes and outputs amplitude which is equivalent to the term\n",
    "$ \\frac{L_{tot}}{q*\\pi*\\sigma^2} \\frac{1}{2}$  \n",
    "\n",
    "Then can convert to magnitudes if needed using  \n",
    "$M_* - M_\\odot = -2.5 \\log \\frac{L_*}{L_\\odot}$\n"
   ]
  },
  {
   "cell_type": "code",
   "execution_count": 287,
   "metadata": {
    "collapsed": true
   },
   "outputs": [],
   "source": [
    "def mag2amp(M, par):\n",
    "    #returns amplutude value to plug into g_amp if you want in terms of magnitude \n",
    "    #M:      abs magnitude\n",
    "    #par[0]: axis ratio of source, g_axrat\n",
    "    #par[1]: variance of gaussian source, g_sig\n",
    "    \n",
    "    L = 10**(-0.4*M) # luminoisty in units  3.0128×10**28Watts\n",
    "    amp = L/(2.0 * par[0] * pi * par[1]**2)\n",
    "    return(amp)\n",
    "\n",
    "def amp2mag(amp, par):\n",
    "    #returns amplutude value to plug into g_amp if you want in terms of magnitude \n",
    "    #amp:      amplitude\n",
    "    #par[0]: axis ratio of source, g_axrat\n",
    "    #par[1]: variance of gaussian source, g_sig\n",
    "    \n",
    "    L = amp * (2.0 * par[0] * pi * par[1]**2)\n",
    "    M = n.log10(L)/(-0.4)\n",
    "    return(M)"
   ]
  },
  {
   "cell_type": "markdown",
   "metadata": {
    "deletable": true,
    "editable": true
   },
   "source": [
    "# Einstein radius \n",
    "(see kolchanek 2004)   \n",
    "The einstein radius is needed... this is a function of the lens mass. \n",
    "\n",
    "For an SIE, this is  \n",
    "$ l_{amp} = 4 \\pi \\left( \\frac{\\sigma_v}{c}\\right)^2 \\frac{D_{ls}}{D_s} (\\frac{e_3}{ asin(e_3)})$\n",
    "\n",
    "where  \n",
    "$e_3 = \\sqrt{1-q_3^2}$  \n",
    "$q^2 = q_3^2 cos^2 i + sin^2 i $  \n",
    "is related to the 3D density of the lens, $q$ is the axis ratio and $i$ the inclination\n",
    "\n",
    "\n",
    "$\\sigma_v$ is the velocity dispersion, where for a sphere would be  \n",
    "$\\sigma_v = \\frac{G M}{5 R}$ \n",
    "\n",
    "Or we could use some Faber-Jackson relation to get $\\sigma_v$ from luminosity? Might be easier given the data we have... \n"
   ]
  },
  {
   "cell_type": "code",
   "execution_count": 288,
   "metadata": {
    "collapsed": true,
    "deletable": true,
    "editable": true
   },
   "outputs": [],
   "source": [
    "def mass2amp(M,R, q, i ,zl ,zs, H0, Om, Ol):\n",
    "    # convert galaxy mass to einstein radius\n",
    "    # M: Mass in solar mass\n",
    "    # R: lens radius in Mpc\n",
    "    # q: axis ratio\n",
    "    # i: inclination\n",
    "    # zl: lens redshift\n",
    "    # zs: source redshift\n",
    "    # Ho: hubble const\n",
    "    # Om: omega matter \n",
    "    # Ol: omega lambda\n",
    "    cMpc = 9.715841e-15 #speed of light in Mpc/s\n",
    "    GG   = 4.515873e-48 #G in Mpc^-3 Msun^-1 s^-2\n",
    "    #calculate angular diameter distances in Mpc to lens and source\n",
    "    dL  =   cosmocalc(zl,Ho,Om,Ol)['DA_Mpc']\n",
    "    dS  =   cosmocalc(zs, Ho,Om, Ol)['DA_Mpc']\n",
    "    dLS =   (dS*(1.0+zs)-dL*(1.0+zl))/(1.0+zs)\n",
    "    \n",
    "    sigma = GG*M/(5*R)\n",
    "    \n",
    "    q3 = n.sqrt( (q**2 - n.sin(i)**2) / (n.cos(i)**2))\n",
    "    e3 = sqrt( 1 - q3**2)\n",
    "    l_amp = 4*pi*sigma*sigma/cMpc/cMpc*(dLS/dS)*(e3/n.arcsin(e3))\n",
    "    \n",
    "    return(l_amp)"
   ]
  }
 ],
 "metadata": {
  "kernelspec": {
   "display_name": "Python 3",
   "language": "python",
   "name": "python3"
  },
  "language_info": {
   "codemirror_mode": {
    "name": "ipython",
    "version": 3
   },
   "file_extension": ".py",
   "mimetype": "text/x-python",
   "name": "python",
   "nbconvert_exporter": "python",
   "pygments_lexer": "ipython3",
   "version": "3.6.4"
  }
 },
 "nbformat": 4,
 "nbformat_minor": 2
}
